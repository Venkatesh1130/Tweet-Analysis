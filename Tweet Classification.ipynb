{
 "cells": [
  {
   "cell_type": "code",
   "execution_count": 1,
   "id": "9dbbeda9",
   "metadata": {},
   "outputs": [],
   "source": [
    "import pandas as pd\n",
    "import matplotlib.pyplot as plt\n",
    "import nltk"
   ]
  },
  {
   "cell_type": "code",
   "execution_count": 2,
   "id": "078b032e",
   "metadata": {},
   "outputs": [],
   "source": [
    "df1=pd.read_csv(\"training_1600000.csv\",encoding='ISO-8859-1')"
   ]
  },
  {
   "cell_type": "code",
   "execution_count": 3,
   "id": "e9a6d8ad",
   "metadata": {},
   "outputs": [
    {
     "data": {
      "text/html": [
       "<div>\n",
       "<style scoped>\n",
       "    .dataframe tbody tr th:only-of-type {\n",
       "        vertical-align: middle;\n",
       "    }\n",
       "\n",
       "    .dataframe tbody tr th {\n",
       "        vertical-align: top;\n",
       "    }\n",
       "\n",
       "    .dataframe thead th {\n",
       "        text-align: right;\n",
       "    }\n",
       "</style>\n",
       "<table border=\"1\" class=\"dataframe\">\n",
       "  <thead>\n",
       "    <tr style=\"text-align: right;\">\n",
       "      <th></th>\n",
       "      <th>0</th>\n",
       "      <th>1467810369</th>\n",
       "      <th>Mon Apr 06 22:19:45 PDT 2009</th>\n",
       "      <th>NO_QUERY</th>\n",
       "      <th>_TheSpecialOne_</th>\n",
       "      <th>@switchfoot http://twitpic.com/2y1zl - Awww, that's a bummer.  You shoulda got David Carr of Third Day to do it. ;D</th>\n",
       "    </tr>\n",
       "  </thead>\n",
       "  <tbody>\n",
       "    <tr>\n",
       "      <th>179317</th>\n",
       "      <td>0</td>\n",
       "      <td>1966229286</td>\n",
       "      <td>Fri May 29 17:22:17 PDT 2009</td>\n",
       "      <td>NO_QUERY</td>\n",
       "      <td>scm019</td>\n",
       "      <td>Practice was a beast today. Not going to see J...</td>\n",
       "    </tr>\n",
       "    <tr>\n",
       "      <th>934458</th>\n",
       "      <td>4</td>\n",
       "      <td>1792480822</td>\n",
       "      <td>Wed May 13 23:15:51 PDT 2009</td>\n",
       "      <td>NO_QUERY</td>\n",
       "      <td>panda_bear_prim</td>\n",
       "      <td>my stomach hurts........im watching the nxt dw...</td>\n",
       "    </tr>\n",
       "    <tr>\n",
       "      <th>354741</th>\n",
       "      <td>0</td>\n",
       "      <td>2039812633</td>\n",
       "      <td>Thu Jun 04 22:52:18 PDT 2009</td>\n",
       "      <td>NO_QUERY</td>\n",
       "      <td>alexmorrison27</td>\n",
       "      <td>@joshbates well that isn't going to happen now...</td>\n",
       "    </tr>\n",
       "    <tr>\n",
       "      <th>59328</th>\n",
       "      <td>0</td>\n",
       "      <td>1686119021</td>\n",
       "      <td>Sun May 03 03:51:35 PDT 2009</td>\n",
       "      <td>NO_QUERY</td>\n",
       "      <td>EmilyJOC</td>\n",
       "      <td>Feels like she's been in the car foreverrrr .....</td>\n",
       "    </tr>\n",
       "    <tr>\n",
       "      <th>1201489</th>\n",
       "      <td>4</td>\n",
       "      <td>1985681564</td>\n",
       "      <td>Sun May 31 17:34:22 PDT 2009</td>\n",
       "      <td>NO_QUERY</td>\n",
       "      <td>Mrs_NickJ07</td>\n",
       "      <td>@iLoveNickJ4LIFE hahaha maybe, maybe not  you ...</td>\n",
       "    </tr>\n",
       "  </tbody>\n",
       "</table>\n",
       "</div>"
      ],
      "text/plain": [
       "         0  1467810369  Mon Apr 06 22:19:45 PDT 2009  NO_QUERY  \\\n",
       "179317   0  1966229286  Fri May 29 17:22:17 PDT 2009  NO_QUERY   \n",
       "934458   4  1792480822  Wed May 13 23:15:51 PDT 2009  NO_QUERY   \n",
       "354741   0  2039812633  Thu Jun 04 22:52:18 PDT 2009  NO_QUERY   \n",
       "59328    0  1686119021  Sun May 03 03:51:35 PDT 2009  NO_QUERY   \n",
       "1201489  4  1985681564  Sun May 31 17:34:22 PDT 2009  NO_QUERY   \n",
       "\n",
       "         _TheSpecialOne_  \\\n",
       "179317            scm019   \n",
       "934458   panda_bear_prim   \n",
       "354741    alexmorrison27   \n",
       "59328           EmilyJOC   \n",
       "1201489      Mrs_NickJ07   \n",
       "\n",
       "        @switchfoot http://twitpic.com/2y1zl - Awww, that's a bummer.  You shoulda got David Carr of Third Day to do it. ;D  \n",
       "179317   Practice was a beast today. Not going to see J...                                                                   \n",
       "934458   my stomach hurts........im watching the nxt dw...                                                                   \n",
       "354741   @joshbates well that isn't going to happen now...                                                                   \n",
       "59328    Feels like she's been in the car foreverrrr .....                                                                   \n",
       "1201489  @iLoveNickJ4LIFE hahaha maybe, maybe not  you ...                                                                   "
      ]
     },
     "execution_count": 3,
     "metadata": {},
     "output_type": "execute_result"
    }
   ],
   "source": [
    "df1.sample(5)"
   ]
  },
  {
   "cell_type": "code",
   "execution_count": 4,
   "id": "e8c4e143",
   "metadata": {},
   "outputs": [],
   "source": [
    "df2=df1.iloc[:20000]"
   ]
  },
  {
   "cell_type": "code",
   "execution_count": 5,
   "id": "7a55811b",
   "metadata": {},
   "outputs": [
    {
     "data": {
      "text/html": [
       "<div>\n",
       "<style scoped>\n",
       "    .dataframe tbody tr th:only-of-type {\n",
       "        vertical-align: middle;\n",
       "    }\n",
       "\n",
       "    .dataframe tbody tr th {\n",
       "        vertical-align: top;\n",
       "    }\n",
       "\n",
       "    .dataframe thead th {\n",
       "        text-align: right;\n",
       "    }\n",
       "</style>\n",
       "<table border=\"1\" class=\"dataframe\">\n",
       "  <thead>\n",
       "    <tr style=\"text-align: right;\">\n",
       "      <th></th>\n",
       "      <th>0</th>\n",
       "      <th>1467810369</th>\n",
       "      <th>Mon Apr 06 22:19:45 PDT 2009</th>\n",
       "      <th>NO_QUERY</th>\n",
       "      <th>_TheSpecialOne_</th>\n",
       "      <th>@switchfoot http://twitpic.com/2y1zl - Awww, that's a bummer.  You shoulda got David Carr of Third Day to do it. ;D</th>\n",
       "    </tr>\n",
       "  </thead>\n",
       "  <tbody>\n",
       "    <tr>\n",
       "      <th>19995</th>\n",
       "      <td>0</td>\n",
       "      <td>1556976068</td>\n",
       "      <td>Sun Apr 19 01:19:30 PDT 2009</td>\n",
       "      <td>NO_QUERY</td>\n",
       "      <td>nikibennn</td>\n",
       "      <td>One more day of holidays</td>\n",
       "    </tr>\n",
       "    <tr>\n",
       "      <th>19996</th>\n",
       "      <td>0</td>\n",
       "      <td>1556976167</td>\n",
       "      <td>Sun Apr 19 01:19:32 PDT 2009</td>\n",
       "      <td>NO_QUERY</td>\n",
       "      <td>eifflesummer</td>\n",
       "      <td>feeling so down right now .. i hate you DAMN H...</td>\n",
       "    </tr>\n",
       "    <tr>\n",
       "      <th>19997</th>\n",
       "      <td>0</td>\n",
       "      <td>1556976222</td>\n",
       "      <td>Sun Apr 19 01:19:34 PDT 2009</td>\n",
       "      <td>NO_QUERY</td>\n",
       "      <td>lomobabes</td>\n",
       "      <td>geez,i hv to READ the whole book of personalit...</td>\n",
       "    </tr>\n",
       "    <tr>\n",
       "      <th>19998</th>\n",
       "      <td>0</td>\n",
       "      <td>1556976246</td>\n",
       "      <td>Sun Apr 19 01:19:34 PDT 2009</td>\n",
       "      <td>NO_QUERY</td>\n",
       "      <td>thatsblue2u</td>\n",
       "      <td>I threw my sign at donnie and he bent over to ...</td>\n",
       "    </tr>\n",
       "    <tr>\n",
       "      <th>19999</th>\n",
       "      <td>0</td>\n",
       "      <td>1556976546</td>\n",
       "      <td>Sun Apr 19 01:19:44 PDT 2009</td>\n",
       "      <td>NO_QUERY</td>\n",
       "      <td>Alicepire</td>\n",
       "      <td>@heather2711 Good thing I didn't find any then...</td>\n",
       "    </tr>\n",
       "  </tbody>\n",
       "</table>\n",
       "</div>"
      ],
      "text/plain": [
       "       0  1467810369  Mon Apr 06 22:19:45 PDT 2009  NO_QUERY _TheSpecialOne_  \\\n",
       "19995  0  1556976068  Sun Apr 19 01:19:30 PDT 2009  NO_QUERY       nikibennn   \n",
       "19996  0  1556976167  Sun Apr 19 01:19:32 PDT 2009  NO_QUERY    eifflesummer   \n",
       "19997  0  1556976222  Sun Apr 19 01:19:34 PDT 2009  NO_QUERY       lomobabes   \n",
       "19998  0  1556976246  Sun Apr 19 01:19:34 PDT 2009  NO_QUERY     thatsblue2u   \n",
       "19999  0  1556976546  Sun Apr 19 01:19:44 PDT 2009  NO_QUERY       Alicepire   \n",
       "\n",
       "      @switchfoot http://twitpic.com/2y1zl - Awww, that's a bummer.  You shoulda got David Carr of Third Day to do it. ;D  \n",
       "19995                          One more day of holidays                                                                    \n",
       "19996  feeling so down right now .. i hate you DAMN H...                                                                   \n",
       "19997  geez,i hv to READ the whole book of personalit...                                                                   \n",
       "19998  I threw my sign at donnie and he bent over to ...                                                                   \n",
       "19999  @heather2711 Good thing I didn't find any then...                                                                   "
      ]
     },
     "execution_count": 5,
     "metadata": {},
     "output_type": "execute_result"
    }
   ],
   "source": [
    "df2.tail()"
   ]
  },
  {
   "cell_type": "code",
   "execution_count": 6,
   "id": "08084911",
   "metadata": {},
   "outputs": [],
   "source": [
    "df3=df1.iloc[-20000:]"
   ]
  },
  {
   "cell_type": "code",
   "execution_count": 7,
   "id": "dc0656d0",
   "metadata": {},
   "outputs": [
    {
     "data": {
      "text/html": [
       "<div>\n",
       "<style scoped>\n",
       "    .dataframe tbody tr th:only-of-type {\n",
       "        vertical-align: middle;\n",
       "    }\n",
       "\n",
       "    .dataframe tbody tr th {\n",
       "        vertical-align: top;\n",
       "    }\n",
       "\n",
       "    .dataframe thead th {\n",
       "        text-align: right;\n",
       "    }\n",
       "</style>\n",
       "<table border=\"1\" class=\"dataframe\">\n",
       "  <thead>\n",
       "    <tr style=\"text-align: right;\">\n",
       "      <th></th>\n",
       "      <th>0</th>\n",
       "      <th>1467810369</th>\n",
       "      <th>Mon Apr 06 22:19:45 PDT 2009</th>\n",
       "      <th>NO_QUERY</th>\n",
       "      <th>_TheSpecialOne_</th>\n",
       "      <th>@switchfoot http://twitpic.com/2y1zl - Awww, that's a bummer.  You shoulda got David Carr of Third Day to do it. ;D</th>\n",
       "    </tr>\n",
       "  </thead>\n",
       "  <tbody>\n",
       "    <tr>\n",
       "      <th>1589714</th>\n",
       "      <td>4</td>\n",
       "      <td>2191279268</td>\n",
       "      <td>Tue Jun 16 04:56:06 PDT 2009</td>\n",
       "      <td>NO_QUERY</td>\n",
       "      <td>imhan</td>\n",
       "      <td>i dont get this website :| facebook still the ...</td>\n",
       "    </tr>\n",
       "    <tr>\n",
       "      <th>1593192</th>\n",
       "      <td>4</td>\n",
       "      <td>2191886637</td>\n",
       "      <td>Tue Jun 16 06:08:40 PDT 2009</td>\n",
       "      <td>NO_QUERY</td>\n",
       "      <td>mevforbes</td>\n",
       "      <td>Has a new golden labrador puppy and is very ex...</td>\n",
       "    </tr>\n",
       "    <tr>\n",
       "      <th>1583221</th>\n",
       "      <td>4</td>\n",
       "      <td>2190409342</td>\n",
       "      <td>Tue Jun 16 02:38:55 PDT 2009</td>\n",
       "      <td>NO_QUERY</td>\n",
       "      <td>dollzilla</td>\n",
       "      <td>@ShamanicDreamer Ok I won't open it without ca...</td>\n",
       "    </tr>\n",
       "    <tr>\n",
       "      <th>1589843</th>\n",
       "      <td>4</td>\n",
       "      <td>2191295368</td>\n",
       "      <td>Tue Jun 16 04:58:17 PDT 2009</td>\n",
       "      <td>NO_QUERY</td>\n",
       "      <td>Osyrn</td>\n",
       "      <td>Hells yeah, Ghostbusters video game comes out ...</td>\n",
       "    </tr>\n",
       "    <tr>\n",
       "      <th>1596197</th>\n",
       "      <td>4</td>\n",
       "      <td>2192604425</td>\n",
       "      <td>Tue Jun 16 07:16:59 PDT 2009</td>\n",
       "      <td>NO_QUERY</td>\n",
       "      <td>Allannah_Chan</td>\n",
       "      <td>Am open for Cosplay commissions  http://tartan...</td>\n",
       "    </tr>\n",
       "  </tbody>\n",
       "</table>\n",
       "</div>"
      ],
      "text/plain": [
       "         0  1467810369  Mon Apr 06 22:19:45 PDT 2009  NO_QUERY  \\\n",
       "1589714  4  2191279268  Tue Jun 16 04:56:06 PDT 2009  NO_QUERY   \n",
       "1593192  4  2191886637  Tue Jun 16 06:08:40 PDT 2009  NO_QUERY   \n",
       "1583221  4  2190409342  Tue Jun 16 02:38:55 PDT 2009  NO_QUERY   \n",
       "1589843  4  2191295368  Tue Jun 16 04:58:17 PDT 2009  NO_QUERY   \n",
       "1596197  4  2192604425  Tue Jun 16 07:16:59 PDT 2009  NO_QUERY   \n",
       "\n",
       "        _TheSpecialOne_  \\\n",
       "1589714           imhan   \n",
       "1593192       mevforbes   \n",
       "1583221       dollzilla   \n",
       "1589843           Osyrn   \n",
       "1596197   Allannah_Chan   \n",
       "\n",
       "        @switchfoot http://twitpic.com/2y1zl - Awww, that's a bummer.  You shoulda got David Carr of Third Day to do it. ;D  \n",
       "1589714  i dont get this website :| facebook still the ...                                                                   \n",
       "1593192  Has a new golden labrador puppy and is very ex...                                                                   \n",
       "1583221  @ShamanicDreamer Ok I won't open it without ca...                                                                   \n",
       "1589843  Hells yeah, Ghostbusters video game comes out ...                                                                   \n",
       "1596197  Am open for Cosplay commissions  http://tartan...                                                                   "
      ]
     },
     "execution_count": 7,
     "metadata": {},
     "output_type": "execute_result"
    }
   ],
   "source": [
    "df3.sample(5)"
   ]
  },
  {
   "cell_type": "code",
   "execution_count": 8,
   "id": "35827044",
   "metadata": {},
   "outputs": [],
   "source": [
    "frames=[df2,df3]"
   ]
  },
  {
   "cell_type": "code",
   "execution_count": 9,
   "id": "f01b2afd",
   "metadata": {},
   "outputs": [],
   "source": [
    "df=pd.concat(frames)"
   ]
  },
  {
   "cell_type": "code",
   "execution_count": 11,
   "id": "5d590ee8",
   "metadata": {},
   "outputs": [
    {
     "data": {
      "text/html": [
       "<div>\n",
       "<style scoped>\n",
       "    .dataframe tbody tr th:only-of-type {\n",
       "        vertical-align: middle;\n",
       "    }\n",
       "\n",
       "    .dataframe tbody tr th {\n",
       "        vertical-align: top;\n",
       "    }\n",
       "\n",
       "    .dataframe thead th {\n",
       "        text-align: right;\n",
       "    }\n",
       "</style>\n",
       "<table border=\"1\" class=\"dataframe\">\n",
       "  <thead>\n",
       "    <tr style=\"text-align: right;\">\n",
       "      <th></th>\n",
       "      <th>0</th>\n",
       "      <th>1467810369</th>\n",
       "      <th>Mon Apr 06 22:19:45 PDT 2009</th>\n",
       "      <th>NO_QUERY</th>\n",
       "      <th>_TheSpecialOne_</th>\n",
       "      <th>@switchfoot http://twitpic.com/2y1zl - Awww, that's a bummer.  You shoulda got David Carr of Third Day to do it. ;D</th>\n",
       "    </tr>\n",
       "  </thead>\n",
       "  <tbody>\n",
       "    <tr>\n",
       "      <th>16414</th>\n",
       "      <td>0</td>\n",
       "      <td>1555904308</td>\n",
       "      <td>Sat Apr 18 21:02:04 PDT 2009</td>\n",
       "      <td>NO_QUERY</td>\n",
       "      <td>jennyoreo</td>\n",
       "      <td>My phone is still broken. I'm camping with wor...</td>\n",
       "    </tr>\n",
       "    <tr>\n",
       "      <th>12968</th>\n",
       "      <td>0</td>\n",
       "      <td>1552060384</td>\n",
       "      <td>Sat Apr 18 10:41:00 PDT 2009</td>\n",
       "      <td>NO_QUERY</td>\n",
       "      <td>springit89</td>\n",
       "      <td>house feels so empty with 2 out of 3 roommates...</td>\n",
       "    </tr>\n",
       "    <tr>\n",
       "      <th>1581967</th>\n",
       "      <td>4</td>\n",
       "      <td>2190256736</td>\n",
       "      <td>Tue Jun 16 02:12:39 PDT 2009</td>\n",
       "      <td>NO_QUERY</td>\n",
       "      <td>ryankanno</td>\n",
       "      <td>Yay, finally more green in the Hawaii twitters...</td>\n",
       "    </tr>\n",
       "    <tr>\n",
       "      <th>12017</th>\n",
       "      <td>0</td>\n",
       "      <td>1551618058</td>\n",
       "      <td>Sat Apr 18 09:31:53 PDT 2009</td>\n",
       "      <td>NO_QUERY</td>\n",
       "      <td>SethLarson</td>\n",
       "      <td>@rachaelcaine I wish i did tooo.   my sister w...</td>\n",
       "    </tr>\n",
       "    <tr>\n",
       "      <th>3093</th>\n",
       "      <td>0</td>\n",
       "      <td>1468516317</td>\n",
       "      <td>Tue Apr 07 02:08:55 PDT 2009</td>\n",
       "      <td>NO_QUERY</td>\n",
       "      <td>yoitspaulina</td>\n",
       "      <td>@nicholasbraun aww no fair, you didn't check t...</td>\n",
       "    </tr>\n",
       "  </tbody>\n",
       "</table>\n",
       "</div>"
      ],
      "text/plain": [
       "         0  1467810369  Mon Apr 06 22:19:45 PDT 2009  NO_QUERY  \\\n",
       "16414    0  1555904308  Sat Apr 18 21:02:04 PDT 2009  NO_QUERY   \n",
       "12968    0  1552060384  Sat Apr 18 10:41:00 PDT 2009  NO_QUERY   \n",
       "1581967  4  2190256736  Tue Jun 16 02:12:39 PDT 2009  NO_QUERY   \n",
       "12017    0  1551618058  Sat Apr 18 09:31:53 PDT 2009  NO_QUERY   \n",
       "3093     0  1468516317  Tue Apr 07 02:08:55 PDT 2009  NO_QUERY   \n",
       "\n",
       "        _TheSpecialOne_  \\\n",
       "16414         jennyoreo   \n",
       "12968        springit89   \n",
       "1581967       ryankanno   \n",
       "12017        SethLarson   \n",
       "3093       yoitspaulina   \n",
       "\n",
       "        @switchfoot http://twitpic.com/2y1zl - Awww, that's a bummer.  You shoulda got David Carr of Third Day to do it. ;D  \n",
       "16414    My phone is still broken. I'm camping with wor...                                                                   \n",
       "12968    house feels so empty with 2 out of 3 roommates...                                                                   \n",
       "1581967  Yay, finally more green in the Hawaii twitters...                                                                   \n",
       "12017    @rachaelcaine I wish i did tooo.   my sister w...                                                                   \n",
       "3093     @nicholasbraun aww no fair, you didn't check t...                                                                   "
      ]
     },
     "execution_count": 11,
     "metadata": {},
     "output_type": "execute_result"
    }
   ],
   "source": [
    "df.sample(5)"
   ]
  },
  {
   "cell_type": "code",
   "execution_count": 12,
   "id": "d6fd67f6",
   "metadata": {},
   "outputs": [
    {
     "data": {
      "text/plain": [
       "(40000, 6)"
      ]
     },
     "execution_count": 12,
     "metadata": {},
     "output_type": "execute_result"
    }
   ],
   "source": [
    "df.shape"
   ]
  },
  {
   "cell_type": "code",
   "execution_count": 13,
   "id": "f9bcdb1f",
   "metadata": {},
   "outputs": [],
   "source": [
    "df.drop(columns=['1467810369','Mon Apr 06 22:19:45 PDT 2009','NO_QUERY','_TheSpecialOne_'],inplace=True)"
   ]
  },
  {
   "cell_type": "code",
   "execution_count": 14,
   "id": "682019e0",
   "metadata": {},
   "outputs": [],
   "source": [
    "df.columns=[\"Target\",\"Text\"]"
   ]
  },
  {
   "cell_type": "code",
   "execution_count": 15,
   "id": "2772d124",
   "metadata": {},
   "outputs": [
    {
     "data": {
      "text/plain": [
       "4    20000\n",
       "0    20000\n",
       "Name: Target, dtype: int64"
      ]
     },
     "execution_count": 15,
     "metadata": {},
     "output_type": "execute_result"
    }
   ],
   "source": [
    "df['Target'].value_counts()"
   ]
  },
  {
   "cell_type": "code",
   "execution_count": 16,
   "id": "d9e02dd3",
   "metadata": {},
   "outputs": [],
   "source": [
    "from sklearn.preprocessing import LabelEncoder\n",
    "encoder=LabelEncoder()"
   ]
  },
  {
   "cell_type": "code",
   "execution_count": 17,
   "id": "165e4911",
   "metadata": {},
   "outputs": [],
   "source": [
    "df['Target']=encoder.fit_transform(df['Target'])"
   ]
  },
  {
   "cell_type": "code",
   "execution_count": 18,
   "id": "63ec0fa3",
   "metadata": {},
   "outputs": [
    {
     "data": {
      "text/html": [
       "<div>\n",
       "<style scoped>\n",
       "    .dataframe tbody tr th:only-of-type {\n",
       "        vertical-align: middle;\n",
       "    }\n",
       "\n",
       "    .dataframe tbody tr th {\n",
       "        vertical-align: top;\n",
       "    }\n",
       "\n",
       "    .dataframe thead th {\n",
       "        text-align: right;\n",
       "    }\n",
       "</style>\n",
       "<table border=\"1\" class=\"dataframe\">\n",
       "  <thead>\n",
       "    <tr style=\"text-align: right;\">\n",
       "      <th></th>\n",
       "      <th>Target</th>\n",
       "      <th>Text</th>\n",
       "    </tr>\n",
       "  </thead>\n",
       "  <tbody>\n",
       "  </tbody>\n",
       "</table>\n",
       "</div>"
      ],
      "text/plain": [
       "Empty DataFrame\n",
       "Columns: [Target, Text]\n",
       "Index: []"
      ]
     },
     "execution_count": 18,
     "metadata": {},
     "output_type": "execute_result"
    }
   ],
   "source": [
    "df[df['Target']==2]"
   ]
  },
  {
   "cell_type": "code",
   "execution_count": 19,
   "id": "71a75b19",
   "metadata": {},
   "outputs": [
    {
     "data": {
      "text/plain": [
       "Target    0\n",
       "Text      0\n",
       "dtype: int64"
      ]
     },
     "execution_count": 19,
     "metadata": {},
     "output_type": "execute_result"
    }
   ],
   "source": [
    "df.isnull().sum()"
   ]
  },
  {
   "cell_type": "code",
   "execution_count": 20,
   "id": "ac3ab557",
   "metadata": {},
   "outputs": [
    {
     "data": {
      "text/plain": [
       "154"
      ]
     },
     "execution_count": 20,
     "metadata": {},
     "output_type": "execute_result"
    }
   ],
   "source": [
    "df.duplicated().sum()"
   ]
  },
  {
   "cell_type": "code",
   "execution_count": 21,
   "id": "589fa6b3",
   "metadata": {},
   "outputs": [],
   "source": [
    "df=df.drop_duplicates(keep='first')"
   ]
  },
  {
   "cell_type": "code",
   "execution_count": 22,
   "id": "09c90258",
   "metadata": {},
   "outputs": [
    {
     "data": {
      "text/plain": [
       "0"
      ]
     },
     "execution_count": 22,
     "metadata": {},
     "output_type": "execute_result"
    }
   ],
   "source": [
    "df.duplicated().sum()"
   ]
  },
  {
   "cell_type": "code",
   "execution_count": 23,
   "id": "b455191a",
   "metadata": {},
   "outputs": [
    {
     "data": {
      "text/plain": [
       "(39846, 2)"
      ]
     },
     "execution_count": 23,
     "metadata": {},
     "output_type": "execute_result"
    }
   ],
   "source": [
    "df.shape"
   ]
  },
  {
   "cell_type": "code",
   "execution_count": 24,
   "id": "a81badc0",
   "metadata": {},
   "outputs": [
    {
     "data": {
      "text/plain": [
       "1    19934\n",
       "0    19912\n",
       "Name: Target, dtype: int64"
      ]
     },
     "execution_count": 24,
     "metadata": {},
     "output_type": "execute_result"
    }
   ],
   "source": [
    "df['Target'].value_counts()"
   ]
  },
  {
   "cell_type": "code",
   "execution_count": 25,
   "id": "79b74354",
   "metadata": {},
   "outputs": [
    {
     "data": {
      "image/png": "[encoded data removed]",
      "text/plain": [
       "<Figure size 432x288 with 1 Axes>"
      ]
     },
     "metadata": {},
     "output_type": "display_data"
    }
   ],
   "source": [
    "plt.pie(df['Target'].value_counts(),labels=['positive','negative'],autopct=\"%0.2f\")\n",
    "plt.show()"
   ]
  },
  {
   "cell_type": "code",
   "execution_count": 26,
   "id": "917a65d3",
   "metadata": {},
   "outputs": [
    {
     "data": {
      "text/plain": [
       "['i',\n",
       " 'me',\n",
       " 'my',\n",
       " 'myself',\n",
       " 'we',\n",
       " 'our',\n",
       " 'ours',\n",
       " 'ourselves',\n",
       " 'you',\n",
       " \"you're\",\n",
       " \"you've\",\n",
       " \"you'll\",\n",
       " \"you'd\",\n",
       " 'your',\n",
       " 'yours',\n",
       " 'yourself',\n",
       " 'yourselves',\n",
       " 'he',\n",
       " 'him',\n",
       " 'his',\n",
       " 'himself',\n",
       " 'she',\n",
       " \"she's\",\n",
       " 'her',\n",
       " 'hers',\n",
       " 'herself',\n",
       " 'it',\n",
       " \"it's\",\n",
       " 'its',\n",
       " 'itself',\n",
       " 'they',\n",
       " 'them',\n",
       " 'their',\n",
       " 'theirs',\n",
       " 'themselves',\n",
       " 'what',\n",
       " 'which',\n",
       " 'who',\n",
       " 'whom',\n",
       " 'this',\n",
       " 'that',\n",
       " \"that'll\",\n",
       " 'these',\n",
       " 'those',\n",
       " 'am',\n",
       " 'is',\n",
       " 'are',\n",
       " 'was',\n",
       " 'were',\n",
       " 'be',\n",
       " 'been',\n",
       " 'being',\n",
       " 'have',\n",
       " 'has',\n",
       " 'had',\n",
       " 'having',\n",
       " 'do',\n",
       " 'does',\n",
       " 'did',\n",
       " 'doing',\n",
       " 'a',\n",
       " 'an',\n",
       " 'the',\n",
       " 'and',\n",
       " 'but',\n",
       " 'if',\n",
       " 'or',\n",
       " 'because',\n",
       " 'as',\n",
       " 'until',\n",
       " 'while',\n",
       " 'of',\n",
       " 'at',\n",
       " 'by',\n",
       " 'for',\n",
       " 'with',\n",
       " 'about',\n",
       " 'against',\n",
       " 'between',\n",
       " 'into',\n",
       " 'through',\n",
       " 'during',\n",
       " 'before',\n",
       " 'after',\n",
       " 'above',\n",
       " 'below',\n",
       " 'to',\n",
       " 'from',\n",
       " 'up',\n",
       " 'down',\n",
       " 'in',\n",
       " 'out',\n",
       " 'on',\n",
       " 'off',\n",
       " 'over',\n",
       " 'under',\n",
       " 'again',\n",
       " 'further',\n",
       " 'then',\n",
       " 'once',\n",
       " 'here',\n",
       " 'there',\n",
       " 'when',\n",
       " 'where',\n",
       " 'why',\n",
       " 'how',\n",
       " 'all',\n",
       " 'any',\n",
       " 'both',\n",
       " 'each',\n",
       " 'few',\n",
       " 'more',\n",
       " 'most',\n",
       " 'other',\n",
       " 'some',\n",
       " 'such',\n",
       " 'no',\n",
       " 'nor',\n",
       " 'not',\n",
       " 'only',\n",
       " 'own',\n",
       " 'same',\n",
       " 'so',\n",
       " 'than',\n",
       " 'too',\n",
       " 'very',\n",
       " 's',\n",
       " 't',\n",
       " 'can',\n",
       " 'will',\n",
       " 'just',\n",
       " 'don',\n",
       " \"don't\",\n",
       " 'should',\n",
       " \"should've\",\n",
       " 'now',\n",
       " 'd',\n",
       " 'll',\n",
       " 'm',\n",
       " 'o',\n",
       " 're',\n",
       " 've',\n",
       " 'y',\n",
       " 'ain',\n",
       " 'aren',\n",
       " \"aren't\",\n",
       " 'couldn',\n",
       " \"couldn't\",\n",
       " 'didn',\n",
       " \"didn't\",\n",
       " 'doesn',\n",
       " \"doesn't\",\n",
       " 'hadn',\n",
       " \"hadn't\",\n",
       " 'hasn',\n",
       " \"hasn't\",\n",
       " 'haven',\n",
       " \"haven't\",\n",
       " 'isn',\n",
       " \"isn't\",\n",
       " 'ma',\n",
       " 'mightn',\n",
       " \"mightn't\",\n",
       " 'mustn',\n",
       " \"mustn't\",\n",
       " 'needn',\n",
       " \"needn't\",\n",
       " 'shan',\n",
       " \"shan't\",\n",
       " 'shouldn',\n",
       " \"shouldn't\",\n",
       " 'wasn',\n",
       " \"wasn't\",\n",
       " 'weren',\n",
       " \"weren't\",\n",
       " 'won',\n",
       " \"won't\",\n",
       " 'wouldn',\n",
       " \"wouldn't\"]"
      ]
     },
     "execution_count": 26,
     "metadata": {},
     "output_type": "execute_result"
    }
   ],
   "source": [
    "from nltk.corpus import stopwords\n",
    "stopwords.words('english')"
   ]
  },
  {
   "cell_type": "code",
   "execution_count": 27,
   "id": "ddadbbaa",
   "metadata": {},
   "outputs": [],
   "source": [
    "def transform_text(text):\n",
    "    text=text.lower()\n",
    "    text=nltk.word_tokenize(text)\n",
    "    lst=[]\n",
    "    for i in text:\n",
    "        if i.isalnum():\n",
    "            lst.append(i)\n",
    "    final_lst=[word for word in lst if word not in stopwords.words('english')]\n",
    "    text=final_lst[:]\n",
    "    final_lst.clear()\n",
    "    final_txt=[]\n",
    "    for i in text:\n",
    "        final_txt.append(ps.stem(i))\n",
    "    return \" \".join(final_txt)\n",
    "    "
   ]
  },
  {
   "cell_type": "code",
   "execution_count": 28,
   "id": "f1ffb012",
   "metadata": {},
   "outputs": [],
   "source": [
    "from nltk.stem.porter import PorterStemmer\n",
    "ps=PorterStemmer()"
   ]
  },
  {
   "cell_type": "code",
   "execution_count": 29,
   "id": "886be0b4",
   "metadata": {},
   "outputs": [
    {
     "data": {
      "text/plain": [
       "\"is upset that he can't update his Facebook by texting it... and might cry as a result  School today also. Blah!\""
      ]
     },
     "execution_count": 29,
     "metadata": {},
     "output_type": "execute_result"
    }
   ],
   "source": [
    "df['Text'][0]"
   ]
  },
  {
   "cell_type": "code",
   "execution_count": 30,
   "id": "eea7cac5",
   "metadata": {},
   "outputs": [
    {
     "data": {
      "text/plain": [
       "'upset ca updat facebook text might cri result school today also blah'"
      ]
     },
     "execution_count": 30,
     "metadata": {},
     "output_type": "execute_result"
    }
   ],
   "source": [
    "transform_text(\"is upset that he can't update his Facebook by texting it... and might cry as a result  School today also. Blah!\")"
   ]
  },
  {
   "cell_type": "code",
   "execution_count": 31,
   "id": "06408a03",
   "metadata": {},
   "outputs": [],
   "source": [
    "df['final_text']=df['Text'].apply(transform_text)"
   ]
  },
  {
   "cell_type": "code",
   "execution_count": 32,
   "id": "1147e341",
   "metadata": {},
   "outputs": [
    {
     "data": {
      "text/html": [
       "<div>\n",
       "<style scoped>\n",
       "    .dataframe tbody tr th:only-of-type {\n",
       "        vertical-align: middle;\n",
       "    }\n",
       "\n",
       "    .dataframe tbody tr th {\n",
       "        vertical-align: top;\n",
       "    }\n",
       "\n",
       "    .dataframe thead th {\n",
       "        text-align: right;\n",
       "    }\n",
       "</style>\n",
       "<table border=\"1\" class=\"dataframe\">\n",
       "  <thead>\n",
       "    <tr style=\"text-align: right;\">\n",
       "      <th></th>\n",
       "      <th>Target</th>\n",
       "      <th>Text</th>\n",
       "      <th>final_text</th>\n",
       "    </tr>\n",
       "  </thead>\n",
       "  <tbody>\n",
       "    <tr>\n",
       "      <th>0</th>\n",
       "      <td>0</td>\n",
       "      <td>is upset that he can't update his Facebook by ...</td>\n",
       "      <td>upset ca updat facebook text might cri result ...</td>\n",
       "    </tr>\n",
       "    <tr>\n",
       "      <th>1</th>\n",
       "      <td>0</td>\n",
       "      <td>@Kenichan I dived many times for the ball. Man...</td>\n",
       "      <td>kenichan dive mani time ball manag save 50 res...</td>\n",
       "    </tr>\n",
       "    <tr>\n",
       "      <th>2</th>\n",
       "      <td>0</td>\n",
       "      <td>my whole body feels itchy and like its on fire</td>\n",
       "      <td>whole bodi feel itchi like fire</td>\n",
       "    </tr>\n",
       "    <tr>\n",
       "      <th>3</th>\n",
       "      <td>0</td>\n",
       "      <td>@nationwideclass no, it's not behaving at all....</td>\n",
       "      <td>nationwideclass behav mad ca see</td>\n",
       "    </tr>\n",
       "    <tr>\n",
       "      <th>4</th>\n",
       "      <td>0</td>\n",
       "      <td>@Kwesidei not the whole crew</td>\n",
       "      <td>kwesidei whole crew</td>\n",
       "    </tr>\n",
       "  </tbody>\n",
       "</table>\n",
       "</div>"
      ],
      "text/plain": [
       "   Target                                               Text  \\\n",
       "0       0  is upset that he can't update his Facebook by ...   \n",
       "1       0  @Kenichan I dived many times for the ball. Man...   \n",
       "2       0    my whole body feels itchy and like its on fire    \n",
       "3       0  @nationwideclass no, it's not behaving at all....   \n",
       "4       0                      @Kwesidei not the whole crew    \n",
       "\n",
       "                                          final_text  \n",
       "0  upset ca updat facebook text might cri result ...  \n",
       "1  kenichan dive mani time ball manag save 50 res...  \n",
       "2                    whole bodi feel itchi like fire  \n",
       "3                   nationwideclass behav mad ca see  \n",
       "4                                kwesidei whole crew  "
      ]
     },
     "execution_count": 32,
     "metadata": {},
     "output_type": "execute_result"
    }
   ],
   "source": [
    "df.head()"
   ]
  },
  {
   "cell_type": "code",
   "execution_count": 40,
   "id": "fea24c23",
   "metadata": {},
   "outputs": [],
   "source": [
    "# df.to_csv('preprocessed_text.csv',index=False)"
   ]
  },
  {
   "cell_type": "code",
   "execution_count": 41,
   "id": "6e5742ca",
   "metadata": {},
   "outputs": [],
   "source": [
    "# temp_df=pd.read_csv('preprocessed_text.csv')"
   ]
  },
  {
   "cell_type": "code",
   "execution_count": 42,
   "id": "f123b41f",
   "metadata": {},
   "outputs": [],
   "source": [
    "# temp_df.shape"
   ]
  },
  {
   "cell_type": "code",
   "execution_count": 43,
   "id": "328ffbd9",
   "metadata": {},
   "outputs": [],
   "source": [
    "from sklearn.model_selection import train_test_split\n",
    "X_train,X_test,y_train,y_test=train_test_split(df.final_text,df.Target,test_size=0.2)"
   ]
  },
  {
   "cell_type": "code",
   "execution_count": 44,
   "id": "826717c5",
   "metadata": {},
   "outputs": [
    {
     "data": {
      "text/plain": [
       "array([[0, 0, 0, ..., 0, 0, 0],\n",
       "       [0, 0, 0, ..., 0, 0, 0],\n",
       "       [0, 0, 0, ..., 0, 0, 0],\n",
       "       [0, 0, 0, ..., 0, 0, 0]], dtype=int64)"
      ]
     },
     "execution_count": 44,
     "metadata": {},
     "output_type": "execute_result"
    }
   ],
   "source": [
    "from sklearn.feature_extraction.text import CountVectorizer\n",
    "cv=CountVectorizer()\n",
    "x_train_cnt=cv.fit_transform(X_train.values)\n",
    "x_train_cnt.toarray()[:4]"
   ]
  },
  {
   "cell_type": "code",
   "execution_count": 45,
   "id": "875fc8e2",
   "metadata": {},
   "outputs": [
    {
     "data": {
      "text/plain": [
       "'@watko Shockingly not! '"
      ]
     },
     "execution_count": 45,
     "metadata": {},
     "output_type": "execute_result"
    }
   ],
   "source": [
    "df['Text'][1200]"
   ]
  },
  {
   "cell_type": "code",
   "execution_count": 46,
   "id": "b8b3522d",
   "metadata": {},
   "outputs": [
    {
     "data": {
      "text/plain": [
       "MultinomialNB()"
      ]
     },
     "execution_count": 46,
     "metadata": {},
     "output_type": "execute_result"
    }
   ],
   "source": [
    "from sklearn.naive_bayes import MultinomialNB\n",
    "model=MultinomialNB()\n",
    "model.fit(x_train_cnt,y_train)"
   ]
  },
  {
   "cell_type": "code",
   "execution_count": 47,
   "id": "5bb3926a",
   "metadata": {},
   "outputs": [
    {
     "data": {
      "text/plain": [
       "array([0, 1], dtype=int64)"
      ]
     },
     "execution_count": 47,
     "metadata": {},
     "output_type": "execute_result"
    }
   ],
   "source": [
    "tweets=[\n",
    "    '@watko Shockingly not! ',\n",
    "    'Very tired this morning - no idea why! Great start to the day '\n",
    "]\n",
    "tweets_cnt=cv.transform(tweets)\n",
    "model.predict(tweets_cnt)"
   ]
  },
  {
   "cell_type": "code",
   "execution_count": 48,
   "id": "a807676c",
   "metadata": {},
   "outputs": [
    {
     "data": {
      "text/plain": [
       "0.7476787954830615"
      ]
     },
     "execution_count": 48,
     "metadata": {},
     "output_type": "execute_result"
    }
   ],
   "source": [
    "x_test_cnt=cv.transform(X_test)\n",
    "model.score(x_test_cnt,y_test)"
   ]
  },
  {
   "cell_type": "code",
   "execution_count": null,
   "id": "b753959c",
   "metadata": {},
   "outputs": [],
   "source": []
  }
 ],
 "metadata": {
  "kernelspec": {
   "display_name": "Python 3 (ipykernel)",
   "language": "python",
   "name": "python3"
  },
  "language_info": {
   "codemirror_mode": {
    "name": "ipython",
    "version": 3
   },
   "file_extension": ".py",
   "mimetype": "text/x-python",
   "name": "python",
   "nbconvert_exporter": "python",
   "pygments_lexer": "ipython3",
   "version": "3.7.0"
  }
 },
 "nbformat": 4,
 "nbformat_minor": 5
}
